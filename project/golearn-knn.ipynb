{
 "cells": [
  {
   "cell_type": "code",
   "execution_count": 1,
   "metadata": {},
   "outputs": [
    {
     "name": "stderr",
     "output_type": "stream",
     "text": [
      "found packages not installed in LGOPATH: [github.com/sjwhitworth/golearn/evaluation github.com/sjwhitworth/golearn/knn]\n",
      "(1/24) installed \"gonum.org/v1/gonum/blas\"\n",
      "(2/24) installed \"gonum.org/v1/gonum/internal/asm/c128\"\n",
      "(3/24) installed \"gonum.org/v1/gonum/internal/asm/c64\"\n",
      "(4/24) installed \"gonum.org/v1/gonum/internal/asm/f32\"\n",
      "(5/24) installed \"gonum.org/v1/gonum/internal/asm/f64\"\n",
      "(6/24) installed \"gonum.org/v1/gonum/internal/math32\"\n",
      "(7/24) installed \"gonum.org/v1/gonum/internal/cmplx64\"\n",
      "(8/24) installed \"gonum.org/v1/gonum/blas/gonum\"\n",
      "(9/24) installed \"gonum.org/v1/gonum/blas/blas64\"\n",
      "(10/24) installed \"gonum.org/v1/gonum/blas/cblas128\"\n",
      "(11/24) installed \"gonum.org/v1/gonum/floats\"\n",
      "(12/24) installed \"gonum.org/v1/gonum/lapack\"\n",
      "(13/24) installed \"gonum.org/v1/gonum/lapack/gonum\"\n",
      "(14/24) installed \"gonum.org/v1/gonum/lapack/lapack64\"\n",
      "(15/24) installed \"gonum.org/v1/gonum/mat\"\n",
      "(16/24) installed \"github.com/sjwhitworth/golearn/base\"\n",
      "(17/24) installed \"github.com/sjwhitworth/golearn/evaluation\"\n",
      "(18/24) installed \"github.com/gonum/blas\"\n",
      "(19/24) installed \"github.com/gonum/lapack\"\n",
      "(20/24) installed \"github.com/gonum/matrix\"\n",
      "(21/24) installed \"github.com/sjwhitworth/golearn/metrics/pairwise\"\n",
      "(22/24) installed \"github.com/sjwhitworth/golearn/kdtree\"\n",
      "(23/24) installed \"github.com/sjwhitworth/golearn/utilities\"\n",
      "(24/24) installed \"github.com/sjwhitworth/golearn/knn\"\n"
     ]
    }
   ],
   "source": [
    "import (\n",
    "\t\"fmt\"\n",
    "\n",
    "\t\"github.com/sjwhitworth/golearn/base\"\n",
    "\t\"github.com/sjwhitworth/golearn/evaluation\"\n",
    "\t\"github.com/sjwhitworth/golearn/knn\"\n",
    ")"
   ]
  },
  {
   "cell_type": "code",
   "execution_count": 2,
   "metadata": {},
   "outputs": [
    {
     "name": "stdout",
     "output_type": "stream",
     "text": [
      "Instances with 75 row(s) 1 attribute(s)\n",
      "Attributes: \n",
      "*\tCategoricalAttribute(\"Species\", [Iris-setosa Iris-versicolor Iris-virginica])\n",
      "\n",
      "Data:\n",
      "\tIris-versicolor \n",
      "\tIris-versicolor \n",
      "\tIris-setosa \n",
      "\tIris-virginica \n",
      "\tIris-versicolor \n",
      "\tIris-setosa \n",
      "\tIris-setosa \n",
      "\tIris-versicolor \n",
      "\tIris-virginica \n",
      "\tIris-setosa \n",
      "\tIris-versicolor \n",
      "\tIris-setosa \n",
      "\tIris-versicolor \n",
      "\tIris-setosa \n",
      "\tIris-setosa \n",
      "\tIris-virginica \n",
      "\tIris-virginica \n",
      "\tIris-virginica \n",
      "\tIris-setosa \n",
      "\tIris-virginica \n",
      "\tIris-setosa \n",
      "\tIris-virginica \n",
      "\tIris-virginica \n",
      "\tIris-virginica \n",
      "\tIris-setosa \n",
      "\tIris-virginica \n",
      "\tIris-versicolor \n",
      "\tIris-setosa \n",
      "\tIris-setosa \n",
      "\tIris-setosa \n",
      "\t...\n",
      "45 row(s) undisplayed\n",
      "Reference Class\tTrue Positives\tFalse Positives\tTrue Negatives\tPrecision\tRecall\tF1 Score\n",
      "---------------\t--------------\t---------------\t--------------\t---------\t------\t--------\n",
      "Iris-virginica\t29\t\t5\t\t41\t\t0.8529\t\t1.0000\t0.9206\n",
      "Iris-versicolor\t15\t\t0\t\t55\t\t1.0000\t\t0.7500\t0.8571\n",
      "Iris-setosa\t26\t\t0\t\t49\t\t1.0000\t\t1.0000\t1.0000\n",
      "Overall accuracy: 0.9333\n",
      "\n"
     ]
    }
   ],
   "source": [
    "{\n",
    "    rawData, err := base.ParseCSVToInstances(\"../datasets/iris_headers.csv\", true)\n",
    "\tif err != nil {\n",
    "\t\tpanic(err)\n",
    "\t}\n",
    "\n",
    "\t//Initialises a new KNN classifier\n",
    "\tcls := knn.NewKnnClassifier(\"euclidean\", \"linear\", 2)\n",
    "\n",
    "\t//Do a training-test split\n",
    "\ttrainData, testData := base.InstancesTrainTestSplit(rawData, 0.50)\n",
    "\tcls.Fit(trainData)\n",
    "\n",
    "\t//Calculates the Euclidean distance and returns the most popular label\n",
    "\tpredictions, err := cls.Predict(testData)\n",
    "\tif err != nil {\n",
    "\t\tpanic(err)\n",
    "\t}\n",
    "\tfmt.Println(predictions)\n",
    "\n",
    "\t// Prints precision/recall metrics\n",
    "\tconfusionMat, err := evaluation.GetConfusionMatrix(testData, predictions)\n",
    "\tif err != nil {\n",
    "\t\tpanic(fmt.Sprintf(\"Unable to get confusion matrix: %s\", err.Error()))\n",
    "\t}\n",
    "\tfmt.Println(evaluation.GetSummary(confusionMat))\n",
    "}"
   ]
  }
 ],
 "metadata": {
  "kernelspec": {
   "display_name": "Go (lgo)",
   "language": "go",
   "name": "lgo"
  },
  "language_info": {
   "file_extension": "",
   "mimetype": "",
   "name": "go",
   "version": ""
  }
 },
 "nbformat": 4,
 "nbformat_minor": 2
}
