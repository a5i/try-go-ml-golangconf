{
 "cells": [
  {
   "cell_type": "code",
   "execution_count": 1,
   "metadata": {},
   "outputs": [],
   "source": [
    "import (\n",
    "\t\"fmt\"\n",
    "\t\"image/color\"\n",
    "    \"image\"\n",
    "\t\"gocv.io/x/gocv\"\n",
    ")"
   ]
  },
  {
   "cell_type": "markdown",
   "metadata": {},
   "source": [
    "## convert MxNet to OpenVINO\n",
    "```\n",
    "python3 /opt/intel/openvino/deployment_tools/model_optimizer/mo_mxnet.py --input_model ./mnist-lenet-0010.params --input_shape [1,1,28,28] --input_symbol ./mnist-lenet-symbol.json\n",
    "```"
   ]
  },
  {
   "cell_type": "code",
   "execution_count": 2,
   "metadata": {},
   "outputs": [],
   "source": [
    "const deviceID = 0\n",
    "const proto = \"./mnist-lenet-0010.xml\"\n",
    "const model = \"./mnist-lenet-0010.bin\"\n",
    "backend := gocv.NetBackendOpenVINO\n",
    "target := gocv.NetTargetCPU"
   ]
  },
  {
   "cell_type": "code",
   "execution_count": 3,
   "metadata": {},
   "outputs": [],
   "source": [
    "n := gocv.ReadNet(model, proto)\n",
    "net := &n\n",
    "if net.Empty() {\n",
    "\tfmt.Printf(\"Error reading network model from : %v %v\\n\", model, proto)\n",
    "}"
   ]
  },
  {
   "cell_type": "code",
   "execution_count": 4,
   "metadata": {},
   "outputs": [
    {
     "name": "stdout",
     "output_type": "stream",
     "text": [
      "Start reading device: 0\n",
      "24\n",
      "<nil>\n"
     ]
    }
   ],
   "source": [
    "net.SetPreferableBackend(gocv.NetBackendType(backend))\n",
    "net.SetPreferableTarget(gocv.NetTargetType(target))\n",
    "\n",
    "fmt.Printf(\"Start reading device: %v\\n\", deviceID)"
   ]
  },
  {
   "cell_type": "code",
   "execution_count": 5,
   "metadata": {},
   "outputs": [],
   "source": [
    "filename := \"../data/tmp/img2.png\"\n",
    "img := gocv.IMRead(filename, gocv.IMReadColor)\n",
    "if img.Empty() {\n",
    "    panic(\"error to load image\")\n",
    "}\n",
    "gray := gocv.NewMat()\n",
    "gocv.CvtColor(img, &gray, gocv.ColorBGRToGray)"
   ]
  },
  {
   "cell_type": "code",
   "execution_count": 6,
   "metadata": {},
   "outputs": [
    {
     "data": {
      "text/plain": [
       "out"
      ]
     },
     "metadata": {},
     "output_type": "display_data"
    },
    {
     "data": {
      "image/png": "[encoded data removed]"
     },
     "metadata": {},
     "output_type": "display_data"
    },
    {
     "name": "stdout",
     "output_type": "stream",
     "text": [
      "(4,0)\n"
     ]
    }
   ],
   "source": [
    "blob := gocv.BlobFromImage(gray, 1.0/255.0, image.Pt(28, 28), gocv.NewScalar(0, 0, 0, 0), false, false)\n",
    "net.SetInput(blob, \"data\")\n",
    "\n",
    "// run a forward pass thru the network\n",
    "prob := net.Forward(\"softmax\")\n",
    "\n",
    "s := prob.Size()\n",
    "_,_,_, out := gocv.MinMaxLoc(prob)\n",
    "fmt.Println(out)\n",
    "\n",
    "outImgData, err := gocv.IMEncode(gocv.PNGFileExt, img)\n",
    "if err!=nil {\n",
    "    panic(\"error encode image\")\n",
    "}\n",
    "img.Close()\n",
    "_ctx.Display.Text(\"out\", nil)\n",
    "_ctx.Display.PNG(outImgData, nil)"
   ]
  }
 ],
 "metadata": {
  "kernelspec": {
   "display_name": "Go (lgo)",
   "language": "go",
   "name": "lgo"
  },
  "language_info": {
   "file_extension": "",
   "mimetype": "",
   "name": "go",
   "version": ""
  }
 },
 "nbformat": 4,
 "nbformat_minor": 2
}
